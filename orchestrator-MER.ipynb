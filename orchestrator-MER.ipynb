{
 "cells": [
  {
   "cell_type": "markdown",
   "id": "ffc25f6e",
   "metadata": {},
   "source": [
    "# Music Emotion Recognition\n",
    "---"
   ]
  },
  {
   "cell_type": "markdown",
   "id": "a7e1d040",
   "metadata": {},
   "source": [
    "## Data Acquisition and Preparation"
   ]
  },
  {
   "cell_type": "code",
   "execution_count": null,
   "id": "d66ef116",
   "metadata": {},
   "outputs": [],
   "source": [
    "import kagglehub\n",
    "\n",
    "# Download latest version\n",
    "path = kagglehub.dataset_download(\"imsparsh/deam-mediaeval-dataset-emotional-analysis-in-music\")\n",
    "\n",
    "print(\"Path to dataset files:\", path)"
   ]
  },
  {
   "cell_type": "markdown",
   "id": "c24f40c5",
   "metadata": {},
   "source": []
  }
 ],
 "metadata": {
  "kernelspec": {
   "display_name": "venv",
   "language": "python",
   "name": "python3"
  },
  "language_info": {
   "name": "python",
   "version": "3.12.9"
  }
 },
 "nbformat": 4,
 "nbformat_minor": 5
}
